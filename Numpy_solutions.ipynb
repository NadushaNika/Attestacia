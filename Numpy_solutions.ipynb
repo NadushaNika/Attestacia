{
  "nbformat": 4,
  "nbformat_minor": 0,
  "metadata": {
    "colab": {
      "provenance": []
    },
    "kernelspec": {
      "name": "python3",
      "display_name": "Python 3"
    },
    "language_info": {
      "name": "python"
    }
  },
  "cells": [
    {
      "cell_type": "code",
      "execution_count": 2,
      "metadata": {
        "id": "H-CzihUsf2ne"
      },
      "outputs": [],
      "source": [
        "# Импорт библиотеки numpy\n",
        "import numpy as np\n"
      ]
    },
    {
      "cell_type": "code",
      "source": [
        "# Создать массив из 10 нулей\n",
        "array=np.zeros(10)\n",
        "print(\"10 nuley:\")\n",
        "print(array)"
      ],
      "metadata": {
        "colab": {
          "base_uri": "https://localhost:8080/"
        },
        "id": "HT4MhTKDghPk",
        "outputId": "aa313b26-f245-443f-a77f-0a83c2d92c3c"
      },
      "execution_count": 15,
      "outputs": [
        {
          "output_type": "stream",
          "name": "stdout",
          "text": [
            "10 nuley:\n",
            "[0. 0. 0. 0. 0. 0. 0. 0. 0. 0.]\n"
          ]
        }
      ]
    },
    {
      "cell_type": "code",
      "source": [
        "# Создайте массив из 10 единиц\n",
        "array=np.ones(10)\n",
        "print(\"10 edinic:\")\n",
        "print(array)"
      ],
      "metadata": {
        "colab": {
          "base_uri": "https://localhost:8080/"
        },
        "id": "eLgtaDI3g8Jr",
        "outputId": "260eb25e-e204-45a9-ca33-f6b5083e975f"
      },
      "execution_count": 16,
      "outputs": [
        {
          "output_type": "stream",
          "name": "stdout",
          "text": [
            "10 edinic:\n",
            "[1. 1. 1. 1. 1. 1. 1. 1. 1. 1.]\n"
          ]
        }
      ]
    },
    {
      "cell_type": "code",
      "source": [
        "#Создайте массив из 10 пятерок\n",
        "array=np.ones(10)*5\n",
        "print(\"10 pyaterok:\")\n",
        "print(array)"
      ],
      "metadata": {
        "colab": {
          "base_uri": "https://localhost:8080/"
        },
        "id": "cuteA8EnhvaC",
        "outputId": "bba2245a-13f0-4ee0-f7db-88c5535f19fd"
      },
      "execution_count": 19,
      "outputs": [
        {
          "output_type": "stream",
          "name": "stdout",
          "text": [
            "10 pyaterok:\n",
            "[5. 5. 5. 5. 5. 5. 5. 5. 5. 5.]\n"
          ]
        }
      ]
    },
    {
      "cell_type": "code",
      "source": [
        "# Создайте массив из целых чисел от 10 до 50\n",
        "array=np.arange(10,51)\n",
        "print(\"ot 10 do 50:\")\n",
        "print(array)\n"
      ],
      "metadata": {
        "colab": {
          "base_uri": "https://localhost:8080/"
        },
        "id": "RR4IePR22lBZ",
        "outputId": "c4150e41-f517-41fe-95cd-2e49ba53ee7a"
      },
      "execution_count": 20,
      "outputs": [
        {
          "output_type": "stream",
          "name": "stdout",
          "text": [
            "ot 10 do 50:\n",
            "[10 11 12 13 14 15 16 17 18 19 20 21 22 23 24 25 26 27 28 29 30 31 32 33\n",
            " 34 35 36 37 38 39 40 41 42 43 44 45 46 47 48 49 50]\n"
          ]
        }
      ]
    },
    {
      "cell_type": "code",
      "source": [
        "# Создайте массив из чeтных чисел от 10 до 50\n",
        "array=np.arange(10,51,2)\n",
        "print(\"ot 10 do 50:\")\n",
        "print(array)\n"
      ],
      "metadata": {
        "colab": {
          "base_uri": "https://localhost:8080/"
        },
        "id": "2yzy9--32znR",
        "outputId": "d285c976-ceeb-420f-a905-fd0612b6fc65"
      },
      "execution_count": 21,
      "outputs": [
        {
          "output_type": "stream",
          "name": "stdout",
          "text": [
            "ot 10 do 50:\n",
            "[10 12 14 16 18 20 22 24 26 28 30 32 34 36 38 40 42 44 46 48 50]\n"
          ]
        }
      ]
    },
    {
      "cell_type": "code",
      "source": [
        "# Создайте матрицу 3х3 с числами от 0 до 8\n",
        "matric = np.arange(0,9).reshape(3,3)\n",
        "print(matric)"
      ],
      "metadata": {
        "colab": {
          "base_uri": "https://localhost:8080/"
        },
        "id": "yr-5pVO3APGU",
        "outputId": "71c35bf3-80be-4c8e-faf5-eec2feb629ff"
      },
      "execution_count": 23,
      "outputs": [
        {
          "output_type": "stream",
          "name": "stdout",
          "text": [
            "[[0 1 2]\n",
            " [3 4 5]\n",
            " [6 7 8]]\n"
          ]
        }
      ]
    },
    {
      "cell_type": "code",
      "source": [
        "# Создать единичную матрицу 3х3\n",
        "matric = np.eye(3)\n",
        "print(matric)"
      ],
      "metadata": {
        "colab": {
          "base_uri": "https://localhost:8080/"
        },
        "id": "pKnEtkABi-re",
        "outputId": "f169ec9c-b52c-4f75-d228-0500474f7b4d"
      },
      "execution_count": 26,
      "outputs": [
        {
          "output_type": "stream",
          "name": "stdout",
          "text": [
            "[[1. 0. 0.]\n",
            " [0. 1. 0.]\n",
            " [0. 0. 1.]]\n"
          ]
        }
      ]
    },
    {
      "cell_type": "code",
      "source": [
        "# Используйте  Num.Py для генерации случайного числа от 0 до 1\n",
        "rand = np.random.rand(1)\n",
        "print(\"ot 0 do 1\")\n",
        "print(rand)\n"
      ],
      "metadata": {
        "colab": {
          "base_uri": "https://localhost:8080/"
        },
        "id": "xpkaol5s3FNX",
        "outputId": "425c515f-eda5-4c21-e6a2-6f977049210f"
      },
      "execution_count": 28,
      "outputs": [
        {
          "output_type": "stream",
          "name": "stdout",
          "text": [
            "ot 0 do 1\n",
            "[0.60972155]\n"
          ]
        }
      ]
    },
    {
      "cell_type": "code",
      "source": [
        "\n",
        "# Используйте NumPY   для генерации массива из 25 случайных чисел, взятых из стандартного нормального распределения\n",
        "\n",
        "rand = np.random.rand(25)\n",
        "print(\"25 random\")\n",
        "print(rand)"
      ],
      "metadata": {
        "colab": {
          "base_uri": "https://localhost:8080/"
        },
        "id": "ijUx6fVGjpED",
        "outputId": "60da9ef1-6994-49d0-a09e-b80afee30024"
      },
      "execution_count": 11,
      "outputs": [
        {
          "output_type": "stream",
          "name": "stdout",
          "text": [
            "25 random\n",
            "[0.03141305 0.2412771  0.82868028 0.8641119  0.81029816 0.1935476\n",
            " 0.89394007 0.00993178 0.02948621 0.89464765 0.62844476 0.10106485\n",
            " 0.51324278 0.20124794 0.02515832 0.44668034 0.89384789 0.50191461\n",
            " 0.27133526 0.11391816 0.9760605  0.32221741 0.69745823 0.05362528\n",
            " 0.91265996]\n"
          ]
        }
      ]
    },
    {
      "cell_type": "code",
      "source": [
        "from numpy.matrixlib import mat\n",
        "# Создайте следующую матрицу используя функции библиотеки \n",
        "mat= np.arange(0.01, 1.01, 0.01).reshape(10,10)\n",
        "print(mat)\n"
      ],
      "metadata": {
        "colab": {
          "base_uri": "https://localhost:8080/"
        },
        "id": "k3w_iQxChmtL",
        "outputId": "2a11e83f-a204-4e17-ea50-15253cdec12f"
      },
      "execution_count": 43,
      "outputs": [
        {
          "output_type": "stream",
          "name": "stdout",
          "text": [
            "[[0.01 0.02 0.03 0.04 0.05 0.06 0.07 0.08 0.09 0.1 ]\n",
            " [0.11 0.12 0.13 0.14 0.15 0.16 0.17 0.18 0.19 0.2 ]\n",
            " [0.21 0.22 0.23 0.24 0.25 0.26 0.27 0.28 0.29 0.3 ]\n",
            " [0.31 0.32 0.33 0.34 0.35 0.36 0.37 0.38 0.39 0.4 ]\n",
            " [0.41 0.42 0.43 0.44 0.45 0.46 0.47 0.48 0.49 0.5 ]\n",
            " [0.51 0.52 0.53 0.54 0.55 0.56 0.57 0.58 0.59 0.6 ]\n",
            " [0.61 0.62 0.63 0.64 0.65 0.66 0.67 0.68 0.69 0.7 ]\n",
            " [0.71 0.72 0.73 0.74 0.75 0.76 0.77 0.78 0.79 0.8 ]\n",
            " [0.81 0.82 0.83 0.84 0.85 0.86 0.87 0.88 0.89 0.9 ]\n",
            " [0.91 0.92 0.93 0.94 0.95 0.96 0.97 0.98 0.99 1.  ]]\n"
          ]
        }
      ]
    },
    {
      "cell_type": "code",
      "source": [
        "# Dана стартовая матрица(обязательно запустите код ниже в вашем решении) Эта матрица будет использоваться в последующих задачах\n",
        "#Это стартовая матрица\n",
        "mat = np.arange(1,26).reshape(5,5)\n",
        "print(mat)\n"
      ],
      "metadata": {
        "colab": {
          "base_uri": "https://localhost:8080/"
        },
        "id": "GxYbVbjPlXM2",
        "outputId": "701bee31-0325-4052-f3b2-46336c01f9a8"
      },
      "execution_count": 55,
      "outputs": [
        {
          "output_type": "stream",
          "name": "stdout",
          "text": [
            "[[ 1  2  3  4  5]\n",
            " [ 6  7  8  9 10]\n",
            " [11 12 13 14 15]\n",
            " [16 17 18 19 20]\n",
            " [21 22 23 24 25]]\n"
          ]
        }
      ]
    },
    {
      "cell_type": "code",
      "source": [
        "#Необходимо написать код, который вернет следующую матрицу из стартовой\n",
        "\n",
        "print('array=', mat[2:, 1:])"
      ],
      "metadata": {
        "colab": {
          "base_uri": "https://localhost:8080/"
        },
        "id": "jO0KSXA74kDa",
        "outputId": "cf641b9f-af01-4193-9df6-dd3857d255ba"
      },
      "execution_count": 56,
      "outputs": [
        {
          "output_type": "stream",
          "name": "stdout",
          "text": [
            "array= [[12 13 14 15]\n",
            " [17 18 19 20]\n",
            " [22 23 24 25]]\n"
          ]
        }
      ]
    },
    {
      "cell_type": "code",
      "source": [
        "#Написать код обращения \n",
        "dv = mat[mat == 20]\n",
        "print(dv)"
      ],
      "metadata": {
        "colab": {
          "base_uri": "https://localhost:8080/"
        },
        "id": "0uKN8DHM40z3",
        "outputId": "1514f161-cfbb-4c51-8107-36a3895e13a4"
      },
      "execution_count": 57,
      "outputs": [
        {
          "output_type": "stream",
          "name": "stdout",
          "text": [
            "[20]\n"
          ]
        }
      ]
    },
    {
      "cell_type": "code",
      "source": [
        "\n",
        "#Написать код к стартовой матрице задачи1, который воспроизводит вывод, показанный ниже\n",
        "\n",
        "print(' array= ', mat[0:3, 1].reshape(3,1))\n",
        "\n"
      ],
      "metadata": {
        "colab": {
          "base_uri": "https://localhost:8080/"
        },
        "id": "RdjDcQjs5HYH",
        "outputId": "247378f4-0aff-4013-db45-b619217da952"
      },
      "execution_count": 59,
      "outputs": [
        {
          "output_type": "stream",
          "name": "stdout",
          "text": [
            " array=  [[ 2]\n",
            " [ 7]\n",
            " [12]]\n"
          ]
        }
      ]
    },
    {
      "cell_type": "code",
      "source": [
        "#Написать код к стартовой матрице задачи1, который воспроизводит вывод, показанный ниже\n",
        "print(' array= ', mat[3:])"
      ],
      "metadata": {
        "colab": {
          "base_uri": "https://localhost:8080/"
        },
        "id": "BaWglHkoar1X",
        "outputId": "13f81bbb-5ef1-4b62-d603-f4650ede8c29"
      },
      "execution_count": 61,
      "outputs": [
        {
          "output_type": "stream",
          "name": "stdout",
          "text": [
            " array=  [[16 17 18 19 20]\n",
            " [21 22 23 24 25]]\n"
          ]
        }
      ]
    },
    {
      "cell_type": "code",
      "source": [
        "#Написать код к стартовой матрице задачи1, который воспроизводит вывод, показанный ниже\n",
        "print(' array= ', mat[4:])"
      ],
      "metadata": {
        "colab": {
          "base_uri": "https://localhost:8080/"
        },
        "id": "Pb1tDG7ZcynQ",
        "outputId": "c1d9f8d1-c174-44a8-880a-50b81ccc6e4c"
      },
      "execution_count": 60,
      "outputs": [
        {
          "output_type": "stream",
          "name": "stdout",
          "text": [
            " array=  [[21 22 23 24 25]]\n"
          ]
        }
      ]
    },
    {
      "cell_type": "code",
      "source": [
        "#Получить сумму всех значений в стартовой матрице \n",
        "print(mat.sum())"
      ],
      "metadata": {
        "colab": {
          "base_uri": "https://localhost:8080/"
        },
        "id": "55YjhniedGbP",
        "outputId": "a67b0018-857c-42da-eb5f-d83f9ef1f983"
      },
      "execution_count": 63,
      "outputs": [
        {
          "output_type": "stream",
          "name": "stdout",
          "text": [
            "325\n"
          ]
        }
      ]
    },
    {
      "cell_type": "code",
      "source": [
        "#Получить стандартное отклонение в стартовой матрице\n",
        "print(mat.std())"
      ],
      "metadata": {
        "colab": {
          "base_uri": "https://localhost:8080/"
        },
        "id": "WR7_N6dGdUPu",
        "outputId": "4dc0ef6e-8832-49b8-b597-75042efd77f8"
      },
      "execution_count": 65,
      "outputs": [
        {
          "output_type": "stream",
          "name": "stdout",
          "text": [
            "7.211102550927978\n"
          ]
        }
      ]
    },
    {
      "cell_type": "code",
      "source": [
        "#Получить сумму значений в колонках в стартовой матрице\n",
        "print(mat.sum(axis=0))"
      ],
      "metadata": {
        "colab": {
          "base_uri": "https://localhost:8080/"
        },
        "id": "EUTBB24_dfkr",
        "outputId": "c26743f7-088e-4158-d7fd-bf1806d3d69d"
      },
      "execution_count": 67,
      "outputs": [
        {
          "output_type": "stream",
          "name": "stdout",
          "text": [
            "[55 60 65 70 75]\n"
          ]
        }
      ]
    }
  ]
}